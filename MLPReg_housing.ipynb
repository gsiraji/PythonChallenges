{
 "cells": [
  {
   "cell_type": "markdown",
   "id": "a8f37a46",
   "metadata": {},
   "source": [
    "From Intro to ANN with Keras by Aurélien Géron "
   ]
  },
  {
   "cell_type": "code",
   "execution_count": 3,
   "id": "57bda2d6",
   "metadata": {},
   "outputs": [],
   "source": [
    "# import scikit-learn modules\n",
    "from sklearn.datasets import fetch_california_housing\n",
    "from sklearn.metrics import mean_squared_error\n",
    "from sklearn.model_selection import train_test_split\n",
    "from sklearn.neural_network import MLPRegressor\n",
    "from sklearn.preprocessing import StandardScaler\n",
    "from sklearn.pipeline import make_pipeline as Pipeline"
   ]
  },
  {
   "cell_type": "code",
   "execution_count": 5,
   "id": "62527212",
   "metadata": {},
   "outputs": [],
   "source": [
    "housing = fetch_california_housing()"
   ]
  },
  {
   "cell_type": "code",
   "execution_count": 26,
   "id": "a7bbfeae",
   "metadata": {},
   "outputs": [],
   "source": [
    "def layer_size_test(n, X_train, y_train, y_valid):\n",
    "    \n",
    "    mlp_reg = MLPRegressor(hidden_layer_sizes = [n,n,n], random_state = 21)\n",
    "\n",
    "    pipeline = Pipeline(StandardScaler(), mlp_reg)\n",
    "\n",
    "    pipeline.fit(X_train, y_train)\n",
    "\n",
    "    y_pred = pipeline.predict(X_valid)\n",
    "\n",
    "    rmse = mean_squared_error(y_valid, y_pred, squared=False)\n",
    "    \n",
    "    print(rmse)"
   ]
  },
  {
   "cell_type": "code",
   "execution_count": 11,
   "id": "b6a3fd55",
   "metadata": {},
   "outputs": [],
   "source": [
    "X_train_all, X_test, y_train_all, y_test = train_test_split(housing.data, housing.target, random_state = 21)\n",
    "\n",
    "X_train, X_valid, y_train, y_valid = train_test_split(X_train_all, y_train_all, random_state = 21)"
   ]
  },
  {
   "cell_type": "code",
   "execution_count": 12,
   "id": "3d4e9fb2",
   "metadata": {},
   "outputs": [],
   "source": []
  },
  {
   "cell_type": "code",
   "execution_count": 27,
   "id": "216274f1",
   "metadata": {},
   "outputs": [
    {
     "name": "stdout",
     "output_type": "stream",
     "text": [
      "0.5363042741483628\n"
     ]
    }
   ],
   "source": [
    "layer_size_test(50, X_train, y_train, y_valid)"
   ]
  },
  {
   "cell_type": "markdown",
   "id": "05d344f9",
   "metadata": {},
   "source": [
    "it seems like anything 30+ for the size of the Perceptrons gets you the same result and smaller ones (5)...\n",
    "get a higher mse. increasing the number of layers also doesn't seem to improve the mse after 3 layers"
   ]
  }
 ],
 "metadata": {
  "kernelspec": {
   "display_name": "Python 3 (ipykernel)",
   "language": "python",
   "name": "python3"
  },
  "language_info": {
   "codemirror_mode": {
    "name": "ipython",
    "version": 3
   },
   "file_extension": ".py",
   "mimetype": "text/x-python",
   "name": "python",
   "nbconvert_exporter": "python",
   "pygments_lexer": "ipython3",
   "version": "3.10.8"
  }
 },
 "nbformat": 4,
 "nbformat_minor": 5
}
